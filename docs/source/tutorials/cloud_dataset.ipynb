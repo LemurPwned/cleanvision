{
 "cells": [
  {
   "attachments": {},
   "cell_type": "markdown",
   "metadata": {},
   "source": [
    "# Run Cleanvision on a cloud dataset"
   ]
  },
  {
   "attachments": {},
   "cell_type": "markdown",
   "metadata": {},
   "source": [
    "### Before you run\n",
    "\n",
    "If you're running locally you may need to configure the access to your cloud resource.\n",
    "\n",
    "- S3 (`\"s3://\"`): the recommended way is to use `aws configure` (same as `boto` configuration).\n",
    "- Google Storage (`\"gs://\"`): the recommended way is to use `gsutil auth login`.\n",
    "- Azure Blob Storage (`\"az://\"`): you need to pass your secrets in the `storage_opts`. This is also an option for S3 and Google Storage but is generally not recommended.\n",
    "\n",
    "Follow [fsspec](https://filesystem-spec.readthedocs.io/en/latest/) documentation to learn more.\n",
    "\n",
    "\n",
    "If you are in the cloud the secrets for dataset access may already exist in your environment. In this case, you may not need to do anything. "
   ]
  },
  {
   "cell_type": "code",
   "execution_count": null,
   "metadata": {},
   "outputs": [],
   "source": [
    "!pip install -U pip\n",
    "!pip install \"cleanvision[s3]\" # cleanvision[azure] for azure blob storage"
   ]
  },
  {
   "attachments": {},
   "cell_type": "markdown",
   "metadata": {},
   "source": [
    "**After you install these packages, you may need to restart your notebook runtime before running the rest of this notebook.**"
   ]
  },
  {
   "cell_type": "code",
   "execution_count": null,
   "metadata": {},
   "outputs": [],
   "source": [
    "from cleanvision.imagelab import Imagelab"
   ]
  },
  {
   "attachments": {},
   "cell_type": "markdown",
   "metadata": {},
   "source": [
    "### Implicit authentication through config or environment variables"
   ]
  },
  {
   "cell_type": "code",
   "execution_count": null,
   "metadata": {},
   "outputs": [],
   "source": [
    "# we try to access open dataset from Berkeley in S3\n",
    "cloud_path = \"s3://amazon-berkeley-objects/images/small/aa/\"\n",
    "\n",
    "imagelab = Imagelab(data_path=cloud_path)"
   ]
  },
  {
   "cell_type": "code",
   "execution_count": null,
   "metadata": {},
   "outputs": [],
   "source": [
    "imagelab.find_issues()"
   ]
  },
  {
   "cell_type": "code",
   "execution_count": null,
   "metadata": {},
   "outputs": [],
   "source": [
    "imagelab.report()"
   ]
  },
  {
   "attachments": {},
   "cell_type": "markdown",
   "metadata": {},
   "source": [
    "### Explicit credential authentication\n",
    "Alternatively, you can authenticate by passing appropriate environments to the optional argument `storage_opts`. "
   ]
  },
  {
   "attachments": {},
   "cell_type": "markdown",
   "metadata": {},
   "source": [
    "We install a dotenv environment for better handling of the secrets.\n",
    "\n",
    "Create a `.env` file with the following contents:\n",
    "\n",
    "```\n",
    "AZURE_STORAGE_ACCOUNT_NAME=XXXXX # your account name\n",
    "AZURE_STORAGE_ACCOUNT_KEY=XXXX # storage account key to your storage account\n",
    "```\n",
    "\n",
    "It's also possible to pass the S3 credentials in the same way:\n",
    "```\n",
    "AWS_ACCESS_KEY_ID=XXXX\n",
    "AWS_SECRET_ACCESS_KEY=XXX\n",
    "```"
   ]
  },
  {
   "cell_type": "code",
   "execution_count": null,
   "metadata": {},
   "outputs": [],
   "source": [
    "!pip install python-dotenv"
   ]
  },
  {
   "attachments": {},
   "cell_type": "markdown",
   "metadata": {},
   "source": [
    "For example, here we try to authenticate Azure Stroage Blob. Specifically, we want to access a blob storage account with the corresponding account key. `cloud_path` contains path to the dataset from the container up to the folder-level."
   ]
  },
  {
   "cell_type": "code",
   "execution_count": null,
   "metadata": {},
   "outputs": [],
   "source": [
    "import os\n",
    "from dotenv import load_dotenv\n",
    "\n",
    "load_dotenv()\n",
    "# the container is called `main` and it contains a folder called `test-dataset`\n",
    "cloud_path = \"az://main/test-dataset/\"\n",
    "ACCOUNT_KEY = os.environ.get(\"AZURE_STORAGE_ACCOUNT_KEY\")\n",
    "ACCOUNT_NAME = os.environ.get(\"AZURE_STORAGE_ACCOUNT_NAME\")\n",
    "storage_opts = {\"account_name\": ACCOUNT_NAME, \"account_key\": ACCOUNT_KEY}\n",
    "imagelab = Imagelab(data_path=cloud_path, storage_opts=storage_opts)\n",
    "imagelab.find_issues()"
   ]
  },
  {
   "cell_type": "code",
   "execution_count": null,
   "metadata": {},
   "outputs": [],
   "source": [
    "imagelab.report()"
   ]
  }
 ],
 "metadata": {
  "kernelspec": {
   "display_name": ".cleanvision",
   "language": "python",
   "name": "python3"
  },
  "language_info": {
   "codemirror_mode": {
    "name": "ipython",
    "version": 3
   },
   "file_extension": ".py",
   "mimetype": "text/x-python",
   "name": "python",
   "nbconvert_exporter": "python",
   "pygments_lexer": "ipython3",
   "version": "3.11.3"
  }
 },
 "nbformat": 4,
 "nbformat_minor": 2
}
